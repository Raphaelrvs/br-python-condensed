{
  "nbformat": 4,
  "nbformat_minor": 0,
  "metadata": {
    "colab": {
      "name": "Cópia de Copy of python_exercises_01.ipynb",
      "provenance": [],
      "collapsed_sections": [],
      "include_colab_link": true
    },
    "kernelspec": {
      "name": "python3",
      "display_name": "Python 3"
    }
  },
  "cells": [
    {
      "cell_type": "markdown",
      "metadata": {
        "id": "view-in-github",
        "colab_type": "text"
      },
      "source": [
        "<a href=\"https://colab.research.google.com/github/Raphaelrvs/br-python-condensed/blob/main/C%C3%B3pia_de_Copy_of_python_exercises_01.ipynb\" target=\"_parent\"><img src=\"https://colab.research.google.com/assets/colab-badge.svg\" alt=\"Open In Colab\"/></a>"
      ]
    },
    {
      "cell_type": "markdown",
      "metadata": {
        "id": "8YqaSZgXYJ5g"
      },
      "source": [
        "![](https://i.imgur.com/YX6UATs.png)\n"
      ]
    },
    {
      "cell_type": "markdown",
      "metadata": {
        "id": "hhUVzDipaGb9"
      },
      "source": [
        "### **Exercícios de Python - 1** \n",
        "\n",
        "\n",
        "\n"
      ]
    },
    {
      "cell_type": "markdown",
      "metadata": {
        "id": "qMGp-h8OaGqr"
      },
      "source": [
        "1 - Faça um programa, com uma função que necessite de três argumentos, e que forneça a soma desses três argumentos."
      ]
    },
    {
      "cell_type": "code",
      "metadata": {
        "id": "WN7GYKbhiEGL"
      },
      "source": [
        "def despesa_lar():\r\n",
        "  agua = float(input(\"Valor agua?\"))\r\n",
        "  luz = float(input(\"Valor luz?\"))\r\n",
        "  internet = float(input(\"Valor internet?\"))\r\n",
        "  despesa = agua+luz+internet\r\n",
        "  return despesa"
      ],
      "execution_count": 42,
      "outputs": []
    },
    {
      "cell_type": "code",
      "metadata": {
        "colab": {
          "base_uri": "https://localhost:8080/"
        },
        "id": "_s5kDLBNkYj6",
        "outputId": "a2f17e4e-bbd5-439d-9f66-e99b14f8db11"
      },
      "source": [
        "despesa_lar ()"
      ],
      "execution_count": 43,
      "outputs": [
        {
          "output_type": "stream",
          "text": [
            "Valor agua?25\n",
            "Valor luz?50\n",
            "Valor internet?100\n"
          ],
          "name": "stdout"
        },
        {
          "output_type": "execute_result",
          "data": {
            "text/plain": [
              "175.0"
            ]
          },
          "metadata": {
            "tags": []
          },
          "execution_count": 43
        }
      ]
    },
    {
      "cell_type": "markdown",
      "metadata": {
        "id": "KdLXZftIaG60"
      },
      "source": [
        "2 - Faça um Programa que peça a temperatura em graus Celsius, transforme e mostre em graus Fahrenheit. \\\n",
        "*Dica: procure a fórmula para essa conversão na internet*"
      ]
    },
    {
      "cell_type": "code",
      "metadata": {
        "id": "MNINJ32eU45M",
        "colab": {
          "base_uri": "https://localhost:8080/"
        },
        "outputId": "e372f5ef-ccf1-479f-856e-f11d6487e641"
      },
      "source": [
        "Temp = float(input(\"Qual é a temperatura que deseja converter em Fahrenheit?\"))"
      ],
      "execution_count": 8,
      "outputs": [
        {
          "output_type": "stream",
          "text": [
            "Qual é a temperatura que deseja converter em Fahrenheit?5\n"
          ],
          "name": "stdout"
        }
      ]
    },
    {
      "cell_type": "code",
      "metadata": {
        "id": "Zf_e3JC5cqCO"
      },
      "source": [
        "Fahrenheit = Temp*1.8+32\r\n"
      ],
      "execution_count": 10,
      "outputs": []
    },
    {
      "cell_type": "code",
      "metadata": {
        "colab": {
          "base_uri": "https://localhost:8080/"
        },
        "id": "riNwNdzrdV_M",
        "outputId": "b7392775-fb68-4d4c-80b9-0ff50e2af9dd"
      },
      "source": [
        "Fahrenheit\r\n"
      ],
      "execution_count": 11,
      "outputs": [
        {
          "output_type": "execute_result",
          "data": {
            "text/plain": [
              "41.0"
            ]
          },
          "metadata": {
            "tags": []
          },
          "execution_count": 11
        }
      ]
    },
    {
      "cell_type": "markdown",
      "metadata": {
        "id": "4OETBVgmaGzX"
      },
      "source": [
        "3 - Faça um Programa que peça um número inteiro e determine se ele é par ou impar. Dica: utilize o operador módulo (resto da divisão)."
      ]
    },
    {
      "cell_type": "code",
      "metadata": {
        "id": "WbzCimFZVSr1",
        "colab": {
          "base_uri": "https://localhost:8080/"
        },
        "outputId": "c3e8d7d1-2624-4469-8d25-57ae323c8480"
      },
      "source": [
        "  N = int(input(\"Valor?\"))\r\n",
        "  teste = N%2\r\n",
        "  if teste == 1:\r\n",
        "    print('Impar')\r\n",
        "  else:\r\n",
        "    print('Par')\r\n",
        "  "
      ],
      "execution_count": 69,
      "outputs": [
        {
          "output_type": "stream",
          "text": [
            "Valor?1251\n",
            "Impar\n"
          ],
          "name": "stdout"
        }
      ]
    },
    {
      "cell_type": "markdown",
      "metadata": {
        "id": "7zPJ8sgPaGw0"
      },
      "source": [
        "4 - Faça um programa que peça o tamanho de um arquivo para download (em MB) e a velocidade de um link de Internet (em Mbps), calcule e informe o tempo aproximado de download do arquivo usando este link (em minutos)."
      ]
    },
    {
      "cell_type": "code",
      "metadata": {
        "id": "l4qtSxU7XquB"
      },
      "source": [
        "def calc():\r\n",
        "  Arquivo = (int(input(\"Qual é o tamanho do arquivo em MB?\")))\r\n",
        "  Velocidade = int(input(\"Qual é a velocidade da internet em Mbps?\"))\r\n",
        "  Tempo = Arquivo/(Velocidade/8)\r\n",
        "  min = Tempo/60\r\n",
        "  min_arr = round(min,2)\r\n",
        "  return min_arr\r\n"
      ],
      "execution_count": 75,
      "outputs": []
    },
    {
      "cell_type": "code",
      "metadata": {
        "colab": {
          "base_uri": "https://localhost:8080/"
        },
        "id": "rH-GzqSUs8PR",
        "outputId": "32d65b2f-4cae-43fa-e660-5e1275cd69d6"
      },
      "source": [
        "calc()"
      ],
      "execution_count": 76,
      "outputs": [
        {
          "output_type": "stream",
          "text": [
            "Qual é o tamanho do arquivo em MB?10\n",
            "Qual é a velocidade da internet em Mbps?5\n"
          ],
          "name": "stdout"
        },
        {
          "output_type": "execute_result",
          "data": {
            "text/plain": [
              "0.27"
            ]
          },
          "metadata": {
            "tags": []
          },
          "execution_count": 76
        }
      ]
    },
    {
      "cell_type": "markdown",
      "metadata": {
        "id": "0tkhm6EUaG1u"
      },
      "source": [
        "5 - Faça um programa para a leitura de duas notas parciais de um aluno. O programa deve calcular a média alcançada por aluno e apresentar:\n",
        "- A mensagem \"Aprovado\", se a média alcançada for maior ou igual a sete;\n",
        "- A mensagem \"Reprovado\", se a média for menor do que sete;\n",
        "- A mensagem \"Aprovado com Distinção\", se a média for igual a dez."
      ]
    },
    {
      "cell_type": "code",
      "metadata": {
        "id": "990mQ6UhdwKl",
        "colab": {
          "base_uri": "https://localhost:8080/"
        },
        "outputId": "6767b8c9-286a-4c87-d666-6092778a4622"
      },
      "source": [
        "    Nota1 = float(input(\"Valor da nota do primeiro semestre?\"))\r\n",
        "    Nota2 = float(input(\"Valor da nota do segundo semestre?\"))\r\n",
        "    Soma = Nota1+Nota2\r\n",
        "    media = Soma/2\r\n",
        "    if media >= 7 and media < 10:\r\n",
        "      print ('Aprovado')\r\n",
        "    elif media < 7: \r\n",
        "      print ('Reprovado')\r\n",
        "    else:\r\n",
        "      print ('Aprovado com Distinção')\r\n",
        "\r\n"
      ],
      "execution_count": 122,
      "outputs": [
        {
          "output_type": "stream",
          "text": [
            "Valor da nota do primeiro semestre?8\n",
            "Valor da nota do segundo semestre?9\n",
            "Aprovado\n"
          ],
          "name": "stdout"
        }
      ]
    },
    {
      "cell_type": "markdown",
      "metadata": {
        "id": "Lm1tOKThnU42"
      },
      "source": [
        "Exercícios adaptados de Python Brasil"
      ]
    }
  ]
}